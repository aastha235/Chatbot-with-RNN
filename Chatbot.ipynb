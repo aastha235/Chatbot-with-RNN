{
  "nbformat": 4,
  "nbformat_minor": 0,
  "metadata": {
    "colab": {
      "provenance": []
    },
    "kernelspec": {
      "name": "python3",
      "display_name": "Python 3"
    },
    "language_info": {
      "name": "python"
    }
  },
  "cells": [
    {
      "cell_type": "code",
      "execution_count": 88,
      "metadata": {
        "id": "HI5BvhdXkA8u"
      },
      "outputs": [],
      "source": [
        "import pickle\n",
        "import numpy as np\n",
        "\n",
        "import keras.backend as K\n",
        "import matplotlib.pyplot as plt\n",
        "import re\n",
        "import tarfile\n",
        "\n",
        "from keras.models import Model,Sequential\n",
        "from keras.layers import Dense, Embedding, Input, Lambda, Reshape, add, dot, Activation, Softmax\n",
        "from keras.preprocessing.sequence import pad_sequences\n",
        "from keras.optimizers import Adam, RMSprop\n",
        "\n",
        "from tensorflow.keras.preprocessing.text import Tokenizer\n",
        "\n",
        "from tensorflow.keras.models import Sequential, Model\n",
        "from tensorflow.keras.layers import Embedding\n",
        "from tensorflow.keras.layers import Input, Activation, Dense, Permute, Dropout\n",
        "from tensorflow.keras.layers import add, dot, concatenate\n",
        "from tensorflow.keras.layers import LSTM\n",
        "from tensorflow.keras.optimizers import RMSprop"
      ]
    },
    {
      "cell_type": "code",
      "source": [
        "with open(\"train_qa.txt\", \"rb\") as fp:   # Unpickling, read-binary\n",
        "    train_data =  pickle.load(fp)"
      ],
      "metadata": {
        "id": "TDYKzclMrfsB"
      },
      "execution_count": 30,
      "outputs": []
    },
    {
      "cell_type": "code",
      "source": [
        "with open(\"test_qa.txt\", \"rb\") as fp:   # Unpickling\n",
        "    test_data =  pickle.load(fp)\n"
      ],
      "metadata": {
        "id": "3EOANfuzrjRj"
      },
      "execution_count": 31,
      "outputs": []
    },
    {
      "cell_type": "code",
      "source": [
        "def tokenize(sent):\n",
        "    return [x.strip() for x in re.split('(\\W+?)', sent) if x.strip()]"
      ],
      "metadata": {
        "id": "vmu63yWfrmXP"
      },
      "execution_count": 32,
      "outputs": []
    },
    {
      "cell_type": "code",
      "source": [
        "def parse_stories(lines, only_supporting=False):\n",
        "    '''Parse stories provided in the bAbi tasks format\n",
        "    If only_supporting is true, only the sentences\n",
        "    that support the answer are kept.\n",
        "    '''\n",
        "    data = []\n",
        "    story = []\n",
        "    for line in lines:\n",
        "        line = line.decode('utf-8').strip()\n",
        "        nid, line = line.split(' ', 1)\n",
        "        nid = int(nid)\n",
        "        if nid == 1:\n",
        "            story = []\n",
        "        if '\\t' in line:\n",
        "            q, a, supporting = line.split('\\t')\n",
        "            q = tokenize(q)\n",
        "            substory = None\n",
        "            if only_supporting:\n",
        "                # Only select the related substory\n",
        "                supporting = map(int, supporting.split())\n",
        "                substory = [story[i - 1] for i in supporting]\n",
        "            else:\n",
        "                # Provide all the substories\n",
        "                substory = [x for x in story if x]\n",
        "            data.append((substory, q, a))\n",
        "            story.append('')\n",
        "        else:\n",
        "            sent = tokenize(line)\n",
        "            story.append(sent)\n",
        "    return data"
      ],
      "metadata": {
        "id": "PcERf9S4sU3y"
      },
      "execution_count": 54,
      "outputs": []
    },
    {
      "cell_type": "code",
      "source": [
        "def get_stories(f, only_supporting=False, max_length=None):\n",
        "    '''Given a file name, read the file,\n",
        "    retrieve the stories,\n",
        "    and then convert the sentences into a single story.\n",
        "    If max_length is supplied,\n",
        "    any stories longer than max_length tokens will be discarded.\n",
        "    '''\n",
        "    data = parse_stories(f.readlines(), only_supporting=only_supporting)\n",
        "    flatten = lambda data: reduce(lambda x, y: x + y, data)\n",
        "    data = [(flatten(story), q, answer) for story, q, answer in data if not max_length or len(flatten(story)) < max_length]\n",
        "    return data"
      ],
      "metadata": {
        "id": "3NFra-CZue4g"
      },
      "execution_count": 55,
      "outputs": []
    },
    {
      "cell_type": "code",
      "source": [
        "# Create a set that holds the vocab words\n",
        "vocab = set()"
      ],
      "metadata": {
        "id": "qwV_KXvoulB5"
      },
      "execution_count": 56,
      "outputs": []
    },
    {
      "cell_type": "code",
      "source": [
        "all_data = test_data + train_data"
      ],
      "metadata": {
        "id": "7Pw0cRuju1hm"
      },
      "execution_count": 57,
      "outputs": []
    },
    {
      "cell_type": "code",
      "source": [
        "for story, question , answer in all_data:\n",
        "    # In case you don't know what a union of sets is:\n",
        "    # https://www.programiz.com/python-programming/methods/set/union\n",
        "    vocab = vocab.union(set(story))\n",
        "    vocab = vocab.union(set(question))\n",
        "vocab.add('no')\n",
        "vocab.add('yes')"
      ],
      "metadata": {
        "id": "65QewpE4u5to"
      },
      "execution_count": 58,
      "outputs": []
    },
    {
      "cell_type": "code",
      "source": [
        "vocab_size = len(vocab) + 1 # we add an extra space to hold a 0 for Keras's pad_sequences"
      ],
      "metadata": {
        "id": "m33T-OIdvAWZ"
      },
      "execution_count": 59,
      "outputs": []
    },
    {
      "cell_type": "code",
      "source": [
        "story_maxlen = max([len(data[0]) for data in all_data])"
      ],
      "metadata": {
        "id": "2UQucrNQvEJi"
      },
      "execution_count": 60,
      "outputs": []
    },
    {
      "cell_type": "code",
      "source": [
        "query_maxlen = max([len(data[1]) for data in all_data])"
      ],
      "metadata": {
        "id": "rY633STavGUT"
      },
      "execution_count": 65,
      "outputs": []
    },
    {
      "cell_type": "code",
      "source": [
        "# integer encode sequences of words\n",
        "tokenizer = Tokenizer(filters=[])   # provide empty list for filter out\n",
        "tokenizer.fit_on_texts(vocab)\n",
        ""
      ],
      "metadata": {
        "id": "jlo8RrW5vITf"
      },
      "execution_count": 67,
      "outputs": []
    },
    {
      "cell_type": "code",
      "source": [
        "train_story_text = []\n",
        "train_question_text = []\n",
        "train_answers = []\n",
        "\n",
        "for story,question,answer in train_data:\n",
        "    train_story_text.append(story)\n",
        "    train_question_text.append(question)"
      ],
      "metadata": {
        "id": "Q6o1kXx2v6AI"
      },
      "execution_count": 68,
      "outputs": []
    },
    {
      "cell_type": "code",
      "source": [
        "train_story_seq = tokenizer.texts_to_sequences(train_story_text)"
      ],
      "metadata": {
        "id": "4rq3Tni71Php"
      },
      "execution_count": 69,
      "outputs": []
    },
    {
      "cell_type": "code",
      "source": [],
      "metadata": {
        "id": "4jtNNP6N2mBP"
      },
      "execution_count": null,
      "outputs": []
    },
    {
      "cell_type": "code",
      "source": [
        "def vectorize_stories(data, word_index=tokenizer.word_index, max_story_len=story_maxlen,max_question_len=query_maxlen):\n",
        "    '''\n",
        "    INPUT:\n",
        "\n",
        "    data: consisting of Stories,Queries,and Answers\n",
        "    word_index: word index dictionary from tokenizer\n",
        "    max_story_len: the length of the longest story (used for pad_sequences function)\n",
        "    max_question_len: length of the longest question (used for pad_sequences function)\n",
        "\n",
        "\n",
        "    OUTPUT:\n",
        "\n",
        "    Vectorizes the stories,questions, and answers into padded sequences. We first loop for every story, query , and\n",
        "    answer in the data. Then we convert the raw words to an word index value. Then we append each set to their appropriate\n",
        "    output list. Then once we have converted the words to numbers, we pad the sequences so they are all of equal length.\n",
        "\n",
        "    Returns this in the form of a tuple (X,Xq,Y) (padded based on max lengths)\n",
        "    '''\n",
        "\n",
        "\n",
        "    # X = STORIES\n",
        "    X = []\n",
        "    # Xq = QUERY/QUESTION\n",
        "    Xq = []\n",
        "    # Y = CORRECT ANSWER\n",
        "    Y = []\n",
        "\n",
        "\n",
        "    for story, query, answer in data:\n",
        "\n",
        "        # Grab the word index for every word in story\n",
        "        x = [word_index[word.lower()] for word in story]\n",
        "        # Grab the word index for every word in query\n",
        "        xq = [word_index[word.lower()] for word in query]\n",
        "\n",
        "        # Grab the Answers (either Yes/No so we don't need to use list comprehension here)\n",
        "        # Index 0 is reserved so we're going to use + 1\n",
        "        y = np.zeros(vocab_size)  # this includes +1 for padding\n",
        "\n",
        "        # Now that y is all zeros and we know its just Yes/No , we can use numpy logic to create this assignment\n",
        "        y[word_index[answer]] = 1\n",
        "\n",
        "        # Append each set of story,query, and answer to their respective holding lists\n",
        "        X.append(x)\n",
        "        Xq.append(xq)\n",
        "        Y.append(y)\n",
        "\n",
        "    # Finally, pad the sequences based on their max length so the RNN can be trained on uniformly long sequences.\n",
        "\n",
        "    # RETURN TUPLE FOR UNPACKING\n",
        "    return (pad_sequences(X, maxlen=max_story_len),pad_sequences(Xq, maxlen=max_question_len), np.array(Y))"
      ],
      "metadata": {
        "id": "FYsl8eb_r3xZ"
      },
      "execution_count": 75,
      "outputs": []
    },
    {
      "cell_type": "code",
      "source": [
        "word2idx = tokenizer.word_index\n",
        "  # convert stories from strings to lists of integers\n",
        "inputs_train, queries_train, answers_train = vectorize_stories(\n",
        "    train_data)\n",
        "inputs_test, queries_test, answers_test = vectorize_stories(\n",
        "    test_data\n",
        "  )"
      ],
      "metadata": {
        "id": "4RPlkCLc1SEt"
      },
      "execution_count": 78,
      "outputs": []
    },
    {
      "cell_type": "code",
      "source": [
        "def build_memory_network():\n",
        "    # Input layers\n",
        "    input_sequence = Input((story_maxlen,))\n",
        "    question = Input((query_maxlen,))\n",
        "\n",
        "\n",
        "\n",
        "    # Embedding layers\n",
        "\n",
        "    embedding_dim = 128\n",
        "\n",
        "# Input gets embedded to a sequence of vectors\n",
        "    input_encoder_m = Sequential()\n",
        "    input_encoder_m.add(Embedding(input_dim=vocab_size,output_dim= embedding_dim))\n",
        "    input_encoder_m.add(Dropout(0.3))\n",
        "\n",
        "    # embed the input into a sequence of vectors of size query_maxlen\n",
        "    input_encoder_c = Sequential()\n",
        "    input_encoder_c.add(Embedding(input_dim=vocab_size,output_dim=query_maxlen))\n",
        "    input_encoder_c.add(Dropout(0.3))\n",
        "# output: (samples, story_maxlen, query_maxlen)\n",
        "    # embed the question into a sequence of vectors\n",
        "    question_encoder = Sequential()\n",
        "    question_encoder.add(Embedding(input_dim=vocab_size,\n",
        "                               output_dim=embedding_dim,\n",
        "                               input_length=query_maxlen))\n",
        "    question_encoder.add(Dropout(0.3))\n",
        "# output: (samples, query_maxlen, embedding_dim)\n",
        "\n",
        "    # encode input sequence and questions (which are indices) to sequences of dense vectors\n",
        "    input_encoded_m = input_encoder_m(input_sequence)\n",
        "    input_encoded_c = input_encoder_c(input_sequence)\n",
        "    question_encoded = question_encoder(question)\n",
        "\n",
        "\n",
        "# This encoder will output:\n",
        "\n",
        "\n",
        "\n",
        "\n",
        "    # shape: `(samples, story_maxlen, query_maxlen)`\n",
        "    match = dot([input_encoded_m, question_encoded], axes=(2, 2))\n",
        "    match = Activation('softmax')(match)\n",
        "\n",
        "    # add the match matrix with the second input vector sequence\n",
        "    response = add([match, input_encoded_c])  # (samples, story_maxlen, query_maxlen)\n",
        "    response = Permute((2, 1))(response)  # (samples, query_maxlen, story_maxlen)\n",
        "\n",
        "    answer = concatenate([response, question_encoded])\n",
        "\n",
        "    answer = LSTM(32)(answer)\n",
        "\n",
        "    # Regularization with Dropout\n",
        "    answer = Dropout(0.5)(answer)\n",
        "    answer = Dense(vocab_size)(answer)\n",
        "\n",
        "    answer = Activation('softmax')(answer)\n",
        "\n",
        "# build the final model\n",
        "    model = Model([input_sequence, question], answer)\n",
        "    optimizer = RMSprop(learning_rate=0.01)\n",
        "    model.compile(optimizer=optimizer, loss='categorical_crossentropy', metrics=['accuracy'])\n",
        "\n",
        "\n",
        "\n",
        "\n",
        "\n",
        "\n",
        "\n",
        "    return model"
      ],
      "metadata": {
        "id": "5FhovJVL3ND6"
      },
      "execution_count": 101,
      "outputs": []
    },
    {
      "cell_type": "code",
      "source": [
        "# train the model\n",
        "model=build_memory_network()\n",
        "r = model.fit(\n",
        "  [inputs_train, queries_train],\n",
        "  answers_train,\n",
        "  epochs=120,\n",
        "  batch_size=32,\n",
        "  validation_data=([inputs_test, queries_test], answers_test)\n",
        ")"
      ],
      "metadata": {
        "colab": {
          "base_uri": "https://localhost:8080/"
        },
        "id": "1Aw5Quxm4uIl",
        "outputId": "77d74f4d-0d50-4c59-86d1-160197115722"
      },
      "execution_count": null,
      "outputs": [
        {
          "output_type": "stream",
          "name": "stdout",
          "text": [
            "Epoch 1/120\n",
            "313/313 [==============================] - 11s 26ms/step - loss: 0.7413 - accuracy: 0.5053 - val_loss: 0.6972 - val_accuracy: 0.5030\n",
            "Epoch 2/120\n",
            "313/313 [==============================] - 6s 20ms/step - loss: 0.7052 - accuracy: 0.5053 - val_loss: 0.7289 - val_accuracy: 0.4970\n",
            "Epoch 3/120\n",
            "313/313 [==============================] - 7s 23ms/step - loss: 0.7035 - accuracy: 0.5024 - val_loss: 0.6964 - val_accuracy: 0.4970\n",
            "Epoch 4/120\n",
            "313/313 [==============================] - 6s 19ms/step - loss: 0.7011 - accuracy: 0.5032 - val_loss: 0.6938 - val_accuracy: 0.5030\n",
            "Epoch 5/120\n",
            "313/313 [==============================] - 8s 25ms/step - loss: 0.7006 - accuracy: 0.4998 - val_loss: 0.6928 - val_accuracy: 0.4970\n",
            "Epoch 6/120\n",
            "313/313 [==============================] - 6s 19ms/step - loss: 0.6659 - accuracy: 0.5821 - val_loss: 0.5537 - val_accuracy: 0.7200\n",
            "Epoch 7/120\n",
            "313/313 [==============================] - 7s 22ms/step - loss: 0.5437 - accuracy: 0.7309 - val_loss: 0.4581 - val_accuracy: 0.7660\n",
            "Epoch 8/120\n",
            "313/313 [==============================] - 6s 19ms/step - loss: 0.4577 - accuracy: 0.7944 - val_loss: 0.3978 - val_accuracy: 0.8130\n",
            "Epoch 9/120\n",
            "313/313 [==============================] - 7s 23ms/step - loss: 0.4147 - accuracy: 0.8178 - val_loss: 0.3811 - val_accuracy: 0.8240\n",
            "Epoch 10/120\n",
            "313/313 [==============================] - 6s 18ms/step - loss: 0.3859 - accuracy: 0.8324 - val_loss: 0.3809 - val_accuracy: 0.8300\n",
            "Epoch 11/120\n",
            "313/313 [==============================] - 8s 25ms/step - loss: 0.3765 - accuracy: 0.8348 - val_loss: 0.3743 - val_accuracy: 0.8270\n",
            "Epoch 12/120\n",
            "313/313 [==============================] - 6s 19ms/step - loss: 0.3755 - accuracy: 0.8361 - val_loss: 0.3721 - val_accuracy: 0.8080\n",
            "Epoch 13/120\n",
            "313/313 [==============================] - 7s 23ms/step - loss: 0.3635 - accuracy: 0.8428 - val_loss: 0.3660 - val_accuracy: 0.8320\n",
            "Epoch 14/120\n",
            "313/313 [==============================] - 7s 21ms/step - loss: 0.3554 - accuracy: 0.8469 - val_loss: 0.3759 - val_accuracy: 0.8200\n",
            "Epoch 15/120\n",
            "313/313 [==============================] - 8s 25ms/step - loss: 0.3498 - accuracy: 0.8510 - val_loss: 0.3853 - val_accuracy: 0.8320\n",
            "Epoch 16/120\n",
            "313/313 [==============================] - 6s 20ms/step - loss: 0.3419 - accuracy: 0.8501 - val_loss: 0.3462 - val_accuracy: 0.8410\n",
            "Epoch 17/120\n",
            "313/313 [==============================] - 8s 24ms/step - loss: 0.3441 - accuracy: 0.8504 - val_loss: 0.3820 - val_accuracy: 0.8160\n",
            "Epoch 18/120\n",
            "313/313 [==============================] - 6s 20ms/step - loss: 0.3413 - accuracy: 0.8522 - val_loss: 0.3665 - val_accuracy: 0.8230\n",
            "Epoch 19/120\n",
            "313/313 [==============================] - 8s 24ms/step - loss: 0.3420 - accuracy: 0.8514 - val_loss: 0.3508 - val_accuracy: 0.8370\n",
            "Epoch 20/120\n",
            "313/313 [==============================] - 6s 21ms/step - loss: 0.3381 - accuracy: 0.8537 - val_loss: 0.3577 - val_accuracy: 0.8310\n",
            "Epoch 21/120\n",
            "313/313 [==============================] - 8s 25ms/step - loss: 0.3458 - accuracy: 0.8501 - val_loss: 0.3769 - val_accuracy: 0.8240\n",
            "Epoch 22/120\n",
            "313/313 [==============================] - 7s 22ms/step - loss: 0.3409 - accuracy: 0.8519 - val_loss: 0.3461 - val_accuracy: 0.8410\n",
            "Epoch 23/120\n",
            "313/313 [==============================] - 7s 24ms/step - loss: 0.3414 - accuracy: 0.8517 - val_loss: 0.3857 - val_accuracy: 0.8270\n",
            "Epoch 24/120\n",
            "313/313 [==============================] - 6s 20ms/step - loss: 0.3392 - accuracy: 0.8495 - val_loss: 0.3651 - val_accuracy: 0.8290\n",
            "Epoch 25/120\n",
            "313/313 [==============================] - 7s 23ms/step - loss: 0.3420 - accuracy: 0.8538 - val_loss: 0.3697 - val_accuracy: 0.8240\n",
            "Epoch 26/120\n",
            "313/313 [==============================] - 6s 19ms/step - loss: 0.3489 - accuracy: 0.8497 - val_loss: 0.3737 - val_accuracy: 0.8310\n",
            "Epoch 27/120\n",
            "313/313 [==============================] - 8s 26ms/step - loss: 0.3431 - accuracy: 0.8512 - val_loss: 0.3449 - val_accuracy: 0.8360\n",
            "Epoch 28/120\n",
            "313/313 [==============================] - 7s 23ms/step - loss: 0.3511 - accuracy: 0.8487 - val_loss: 0.3855 - val_accuracy: 0.8250\n",
            "Epoch 29/120\n",
            "313/313 [==============================] - 7s 24ms/step - loss: 0.3432 - accuracy: 0.8492 - val_loss: 0.3963 - val_accuracy: 0.8220\n",
            "Epoch 30/120\n",
            "313/313 [==============================] - 7s 22ms/step - loss: 0.3430 - accuracy: 0.8496 - val_loss: 0.3586 - val_accuracy: 0.8300\n",
            "Epoch 31/120\n",
            "313/313 [==============================] - 7s 22ms/step - loss: 0.3553 - accuracy: 0.8452 - val_loss: 0.3875 - val_accuracy: 0.8250\n",
            "Epoch 32/120\n",
            "313/313 [==============================] - 7s 23ms/step - loss: 0.3569 - accuracy: 0.8478 - val_loss: 0.4240 - val_accuracy: 0.8080\n",
            "Epoch 33/120\n",
            "313/313 [==============================] - 6s 20ms/step - loss: 0.3591 - accuracy: 0.8442 - val_loss: 0.3689 - val_accuracy: 0.8320\n",
            "Epoch 34/120\n",
            "313/313 [==============================] - 7s 24ms/step - loss: 0.3673 - accuracy: 0.8425 - val_loss: 0.3968 - val_accuracy: 0.8170\n",
            "Epoch 35/120\n",
            "313/313 [==============================] - 6s 19ms/step - loss: 0.3707 - accuracy: 0.8407 - val_loss: 0.4224 - val_accuracy: 0.8210\n",
            "Epoch 36/120\n",
            "313/313 [==============================] - 8s 24ms/step - loss: 0.3603 - accuracy: 0.8442 - val_loss: 0.3965 - val_accuracy: 0.8290\n",
            "Epoch 37/120\n",
            "313/313 [==============================] - 6s 20ms/step - loss: 0.3661 - accuracy: 0.8445 - val_loss: 0.3640 - val_accuracy: 0.8300\n",
            "Epoch 38/120\n",
            "313/313 [==============================] - 7s 23ms/step - loss: 0.3750 - accuracy: 0.8378 - val_loss: 0.3567 - val_accuracy: 0.8280\n",
            "Epoch 39/120\n",
            "313/313 [==============================] - 6s 19ms/step - loss: 0.3808 - accuracy: 0.8339 - val_loss: 0.3732 - val_accuracy: 0.8400\n",
            "Epoch 40/120\n",
            "313/313 [==============================] - 8s 24ms/step - loss: 0.3848 - accuracy: 0.8331 - val_loss: 0.3890 - val_accuracy: 0.8380\n",
            "Epoch 41/120\n",
            "313/313 [==============================] - 6s 19ms/step - loss: 0.3864 - accuracy: 0.8330 - val_loss: 0.3761 - val_accuracy: 0.8220\n",
            "Epoch 42/120\n",
            "313/313 [==============================] - 8s 25ms/step - loss: 0.3856 - accuracy: 0.8329 - val_loss: 0.3710 - val_accuracy: 0.8160\n",
            "Epoch 43/120\n",
            "313/313 [==============================] - 6s 21ms/step - loss: 0.3953 - accuracy: 0.8351 - val_loss: 0.3896 - val_accuracy: 0.8290\n",
            "Epoch 44/120\n",
            "313/313 [==============================] - 7s 23ms/step - loss: 0.3823 - accuracy: 0.8336 - val_loss: 0.3785 - val_accuracy: 0.8220\n",
            "Epoch 45/120\n",
            "313/313 [==============================] - 6s 20ms/step - loss: 0.3910 - accuracy: 0.8310 - val_loss: 0.3963 - val_accuracy: 0.8290\n",
            "Epoch 46/120\n",
            "313/313 [==============================] - 7s 24ms/step - loss: 0.3960 - accuracy: 0.8316 - val_loss: 0.3701 - val_accuracy: 0.8230\n",
            "Epoch 47/120\n",
            "313/313 [==============================] - 6s 19ms/step - loss: 0.3953 - accuracy: 0.8305 - val_loss: 0.3708 - val_accuracy: 0.8190\n",
            "Epoch 48/120\n",
            "313/313 [==============================] - 7s 24ms/step - loss: 0.4019 - accuracy: 0.8303 - val_loss: 0.3919 - val_accuracy: 0.8220\n",
            "Epoch 49/120\n",
            "313/313 [==============================] - 6s 19ms/step - loss: 0.4053 - accuracy: 0.8269 - val_loss: 0.3722 - val_accuracy: 0.8240\n",
            "Epoch 50/120\n",
            "313/313 [==============================] - 8s 24ms/step - loss: 0.4010 - accuracy: 0.8253 - val_loss: 0.3762 - val_accuracy: 0.8250\n",
            "Epoch 51/120\n",
            "313/313 [==============================] - 6s 20ms/step - loss: 0.3954 - accuracy: 0.8269 - val_loss: 0.4391 - val_accuracy: 0.8230\n",
            "Epoch 52/120\n",
            "313/313 [==============================] - 7s 24ms/step - loss: 0.3995 - accuracy: 0.8272 - val_loss: 0.3859 - val_accuracy: 0.8240\n",
            "Epoch 53/120\n",
            "313/313 [==============================] - 6s 20ms/step - loss: 0.3948 - accuracy: 0.8316 - val_loss: 0.3821 - val_accuracy: 0.8160\n",
            "Epoch 54/120\n",
            "313/313 [==============================] - 8s 24ms/step - loss: 0.3888 - accuracy: 0.8307 - val_loss: 0.3732 - val_accuracy: 0.8280\n",
            "Epoch 55/120\n",
            "313/313 [==============================] - 6s 20ms/step - loss: 0.3938 - accuracy: 0.8327 - val_loss: 0.3653 - val_accuracy: 0.8240\n",
            "Epoch 56/120\n",
            "313/313 [==============================] - 8s 26ms/step - loss: 0.3944 - accuracy: 0.8254 - val_loss: 0.3942 - val_accuracy: 0.8360\n",
            "Epoch 57/120\n",
            "313/313 [==============================] - 7s 22ms/step - loss: 0.3969 - accuracy: 0.8249 - val_loss: 0.3795 - val_accuracy: 0.8250\n",
            "Epoch 58/120\n",
            "313/313 [==============================] - 8s 25ms/step - loss: 0.3999 - accuracy: 0.8254 - val_loss: 0.4164 - val_accuracy: 0.7950\n",
            "Epoch 59/120\n",
            "313/313 [==============================] - 6s 20ms/step - loss: 0.3975 - accuracy: 0.8313 - val_loss: 0.3697 - val_accuracy: 0.8260\n",
            "Epoch 60/120\n",
            "313/313 [==============================] - 7s 23ms/step - loss: 0.3951 - accuracy: 0.8295 - val_loss: 0.4059 - val_accuracy: 0.8330\n",
            "Epoch 61/120\n",
            "313/313 [==============================] - 6s 18ms/step - loss: 0.3952 - accuracy: 0.8304 - val_loss: 0.3746 - val_accuracy: 0.8330\n",
            "Epoch 62/120\n",
            "313/313 [==============================] - 8s 25ms/step - loss: 0.3911 - accuracy: 0.8321 - val_loss: 0.3740 - val_accuracy: 0.8210\n",
            "Epoch 63/120\n",
            "313/313 [==============================] - 6s 19ms/step - loss: 0.4005 - accuracy: 0.8276 - val_loss: 0.3732 - val_accuracy: 0.8260\n",
            "Epoch 64/120\n",
            "313/313 [==============================] - 8s 25ms/step - loss: 0.4021 - accuracy: 0.8283 - val_loss: 0.3559 - val_accuracy: 0.8280\n",
            "Epoch 65/120\n",
            "313/313 [==============================] - 7s 21ms/step - loss: 0.4000 - accuracy: 0.8266 - val_loss: 0.3672 - val_accuracy: 0.8240\n",
            "Epoch 66/120\n",
            "313/313 [==============================] - 7s 22ms/step - loss: 0.4024 - accuracy: 0.8264 - val_loss: 0.3796 - val_accuracy: 0.8340\n",
            "Epoch 67/120\n",
            "313/313 [==============================] - 6s 20ms/step - loss: 0.4021 - accuracy: 0.8287 - val_loss: 0.3612 - val_accuracy: 0.8400\n",
            "Epoch 68/120\n",
            "313/313 [==============================] - 7s 23ms/step - loss: 0.3992 - accuracy: 0.8316 - val_loss: 0.3545 - val_accuracy: 0.8360\n",
            "Epoch 69/120\n",
            "313/313 [==============================] - 6s 20ms/step - loss: 0.3973 - accuracy: 0.8316 - val_loss: 0.3697 - val_accuracy: 0.8300\n",
            "Epoch 70/120\n",
            "313/313 [==============================] - 8s 24ms/step - loss: 0.3959 - accuracy: 0.8342 - val_loss: 0.3871 - val_accuracy: 0.8300\n",
            "Epoch 71/120\n",
            "313/313 [==============================] - 6s 19ms/step - loss: 0.3932 - accuracy: 0.8311 - val_loss: 0.3885 - val_accuracy: 0.8130\n",
            "Epoch 72/120\n",
            "313/313 [==============================] - 7s 24ms/step - loss: 0.3946 - accuracy: 0.8306 - val_loss: 0.3824 - val_accuracy: 0.8360\n",
            "Epoch 73/120\n",
            "313/313 [==============================] - 6s 20ms/step - loss: 0.3998 - accuracy: 0.8278 - val_loss: 0.3718 - val_accuracy: 0.8280\n",
            "Epoch 74/120\n",
            "313/313 [==============================] - 7s 24ms/step - loss: 0.3994 - accuracy: 0.8252 - val_loss: 0.3916 - val_accuracy: 0.8300\n",
            "Epoch 75/120\n",
            "313/313 [==============================] - 6s 20ms/step - loss: 0.3983 - accuracy: 0.8349 - val_loss: 0.3933 - val_accuracy: 0.8230\n",
            "Epoch 76/120\n",
            "313/313 [==============================] - 7s 24ms/step - loss: 0.3901 - accuracy: 0.8310 - val_loss: 0.3908 - val_accuracy: 0.8290\n",
            "Epoch 77/120\n",
            "313/313 [==============================] - 7s 21ms/step - loss: 0.3866 - accuracy: 0.8345 - val_loss: 0.4026 - val_accuracy: 0.8280\n",
            "Epoch 78/120\n",
            "313/313 [==============================] - 7s 22ms/step - loss: 0.3890 - accuracy: 0.8315 - val_loss: 0.3606 - val_accuracy: 0.8390\n",
            "Epoch 79/120\n",
            "313/313 [==============================] - 7s 24ms/step - loss: 0.3939 - accuracy: 0.8295 - val_loss: 0.3772 - val_accuracy: 0.8130\n",
            "Epoch 80/120\n",
            "313/313 [==============================] - 7s 21ms/step - loss: 0.3898 - accuracy: 0.8315 - val_loss: 0.3622 - val_accuracy: 0.8270\n",
            "Epoch 81/120\n",
            "313/313 [==============================] - 8s 24ms/step - loss: 0.3918 - accuracy: 0.8317 - val_loss: 0.3682 - val_accuracy: 0.8240\n",
            "Epoch 82/120\n",
            "313/313 [==============================] - 6s 19ms/step - loss: 0.3865 - accuracy: 0.8346 - val_loss: 0.3688 - val_accuracy: 0.8420\n",
            "Epoch 83/120\n",
            "313/313 [==============================] - 7s 24ms/step - loss: 0.3852 - accuracy: 0.8365 - val_loss: 0.3614 - val_accuracy: 0.8400\n",
            "Epoch 84/120\n",
            "313/313 [==============================] - 6s 21ms/step - loss: 0.3962 - accuracy: 0.8296 - val_loss: 0.3737 - val_accuracy: 0.8410\n",
            "Epoch 85/120\n",
            "313/313 [==============================] - 7s 24ms/step - loss: 0.3934 - accuracy: 0.8285 - val_loss: 0.3665 - val_accuracy: 0.8280\n",
            "Epoch 86/120\n",
            "313/313 [==============================] - 6s 19ms/step - loss: 0.3826 - accuracy: 0.8354 - val_loss: 0.3727 - val_accuracy: 0.8360\n",
            "Epoch 87/120\n",
            "313/313 [==============================] - 7s 22ms/step - loss: 0.3844 - accuracy: 0.8355 - val_loss: 0.3625 - val_accuracy: 0.8400\n",
            "Epoch 88/120\n",
            "313/313 [==============================] - 6s 20ms/step - loss: 0.3830 - accuracy: 0.8363 - val_loss: 0.3806 - val_accuracy: 0.8370\n",
            "Epoch 89/120\n",
            "313/313 [==============================] - 7s 23ms/step - loss: 0.3807 - accuracy: 0.8314 - val_loss: 0.3810 - val_accuracy: 0.8160\n",
            "Epoch 90/120\n",
            "313/313 [==============================] - 6s 19ms/step - loss: 0.3827 - accuracy: 0.8385 - val_loss: 0.3783 - val_accuracy: 0.8300\n",
            "Epoch 91/120\n",
            "313/313 [==============================] - 7s 23ms/step - loss: 0.3834 - accuracy: 0.8340 - val_loss: 0.3718 - val_accuracy: 0.8170\n",
            "Epoch 92/120\n",
            "311/313 [============================>.] - ETA: 0s - loss: 0.3813 - accuracy: 0.8377"
          ]
        }
      ]
    },
    {
      "cell_type": "code",
      "source": [
        "model.summary()\n"
      ],
      "metadata": {
        "colab": {
          "base_uri": "https://localhost:8080/"
        },
        "id": "uxzdC1-u8Tyy",
        "outputId": "ea321680-1bac-461c-d181-c988a1663cee"
      },
      "execution_count": 113,
      "outputs": [
        {
          "output_type": "stream",
          "name": "stdout",
          "text": [
            "Model: \"model\"\n",
            "__________________________________________________________________________________________________\n",
            " Layer (type)                Output Shape                 Param #   Connected to                  \n",
            "==================================================================================================\n",
            " input_5 (InputLayer)        [(None, 156)]                0         []                            \n",
            "                                                                                                  \n",
            " input_6 (InputLayer)        [(None, 6)]                  0         []                            \n",
            "                                                                                                  \n",
            " sequential_5 (Sequential)   (None, None, 128)            4864      ['input_5[0][0]']             \n",
            "                                                                                                  \n",
            " sequential_7 (Sequential)   (None, 6, 128)               4864      ['input_6[0][0]']             \n",
            "                                                                                                  \n",
            " dot_1 (Dot)                 (None, 156, 6)               0         ['sequential_5[0][0]',        \n",
            "                                                                     'sequential_7[0][0]']        \n",
            "                                                                                                  \n",
            " activation_1 (Activation)   (None, 156, 6)               0         ['dot_1[0][0]']               \n",
            "                                                                                                  \n",
            " sequential_6 (Sequential)   (None, None, 6)              228       ['input_5[0][0]']             \n",
            "                                                                                                  \n",
            " add_1 (Add)                 (None, 156, 6)               0         ['activation_1[0][0]',        \n",
            "                                                                     'sequential_6[0][0]']        \n",
            "                                                                                                  \n",
            " permute_1 (Permute)         (None, 6, 156)               0         ['add_1[0][0]']               \n",
            "                                                                                                  \n",
            " concatenate (Concatenate)   (None, 6, 284)               0         ['permute_1[0][0]',           \n",
            "                                                                     'sequential_7[0][0]']        \n",
            "                                                                                                  \n",
            " lstm (LSTM)                 (None, 32)                   40576     ['concatenate[0][0]']         \n",
            "                                                                                                  \n",
            " dropout_7 (Dropout)         (None, 32)                   0         ['lstm[0][0]']                \n",
            "                                                                                                  \n",
            " dense (Dense)               (None, 38)                   1254      ['dropout_7[0][0]']           \n",
            "                                                                                                  \n",
            " activation_2 (Activation)   (None, 38)                   0         ['dense[0][0]']               \n",
            "                                                                                                  \n",
            "==================================================================================================\n",
            "Total params: 51786 (202.29 KB)\n",
            "Trainable params: 51786 (202.29 KB)\n",
            "Non-trainable params: 0 (0.00 Byte)\n",
            "__________________________________________________________________________________________________\n"
          ]
        }
      ]
    },
    {
      "cell_type": "code",
      "source": [
        "%matplotlib inline\n",
        "print(r.history.keys())\n",
        "# summarize history for accuracy\n",
        "plt.plot(r.history['accuracy'])\n",
        "plt.plot(r.history['val_accuracy'])\n",
        "plt.title('model accuracy')\n",
        "plt.ylabel('accuracy')\n",
        "plt.xlabel('epoch')\n",
        "plt.legend(['train', 'test'], loc='upper left')\n",
        "plt.savefig('accuracy.png', dpi=180, facecolor='white')\n",
        "plt.show()"
      ],
      "metadata": {
        "colab": {
          "base_uri": "https://localhost:8080/",
          "height": 489
        },
        "id": "2KhKHwXR6Y4n",
        "outputId": "374092b1-9464-4b43-ab58-20cd0bb92f27"
      },
      "execution_count": 120,
      "outputs": [
        {
          "output_type": "stream",
          "name": "stdout",
          "text": [
            "dict_keys(['loss', 'accuracy', 'val_loss', 'val_accuracy'])\n"
          ]
        },
        {
          "output_type": "display_data",
          "data": {
            "text/plain": [
              "<Figure size 640x480 with 1 Axes>"
            ],
            "image/png": "[encoded data removed]"
          },
          "metadata": {}
        }
      ]
    }
  ]
}